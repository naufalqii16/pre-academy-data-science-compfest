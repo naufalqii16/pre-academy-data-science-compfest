{
 "cells": [
  {
   "cell_type": "code",
   "execution_count": null,
   "metadata": {},
   "outputs": [],
   "source": [
    "import pandas as pd"
   ]
  },
  {
   "cell_type": "code",
   "execution_count": null,
   "metadata": {},
   "outputs": [],
   "source": [
    "data_inti = pd.read_csv('Data-jakarta-inti.csv')\n",
    "data_inti.head()"
   ]
  },
  {
   "cell_type": "code",
   "execution_count": null,
   "metadata": {},
   "outputs": [],
   "source": [
    "data_inti.info()"
   ]
  },
  {
   "cell_type": "code",
   "execution_count": null,
   "metadata": {},
   "outputs": [],
   "source": [
    "#cek format yang betul\n",
    "print(data_inti['Tanggal'][2])"
   ]
  },
  {
   "cell_type": "code",
   "execution_count": null,
   "metadata": {},
   "outputs": [],
   "source": [
    "# Konversi kolom 'Tanggal' ke format datetime dengan menangkap data yang gagal dikonversi\n",
    "failed_conversion = []\n",
    "for index, value in data_inti['Tanggal'].items():\n",
    "    try:\n",
    "        pd.to_datetime(value, format=\"%d/%m/%Y\")\n",
    "    except ValueError:\n",
    "        failed_conversion.append(index)\n",
    "\n",
    "# Tampilkan indeks sel data yang memiliki format berbeda\n",
    "for value in failed_conversion:\n",
    "    print(data_inti['Tanggal'][value])\n",
    "\n",
    "#diketahui perbedaan format hanya terletak pada imbuhan spasi di akhir string"
   ]
  },
  {
   "cell_type": "code",
   "execution_count": null,
   "metadata": {},
   "outputs": [],
   "source": [
    "# Hapus spasi di akhir string\n",
    "data_inti['Tanggal'] = data_inti['Tanggal'].str.rstrip()"
   ]
  },
  {
   "cell_type": "code",
   "execution_count": null,
   "metadata": {},
   "outputs": [],
   "source": [
    "data_inti['Tanggal'] = pd.to_datetime(data_inti['Tanggal'], format=\"%d/%m/%Y\")"
   ]
  },
  {
   "cell_type": "code",
   "execution_count": null,
   "metadata": {},
   "outputs": [],
   "source": [
    "data_suspek = pd.read_csv('Data-Suspek.csv')\n",
    "data_suspek.head()"
   ]
  },
  {
   "cell_type": "code",
   "execution_count": null,
   "metadata": {},
   "outputs": [],
   "source": [
    "data_suspek.info()"
   ]
  },
  {
   "cell_type": "code",
   "execution_count": null,
   "metadata": {},
   "outputs": [],
   "source": [
    "data_suspek['Tanggal'] = pd.to_datetime(data_suspek['Tanggal'], format=\"%d-%b-%y\")"
   ]
  },
  {
   "cell_type": "code",
   "execution_count": null,
   "metadata": {},
   "outputs": [],
   "source": [
    "# Menggabungkan data menggunakan metode left join\n",
    "merged_data = pd.merge(data_inti, data_suspek, on='Tanggal', how='left')\n",
    "\n",
    "# Mengisi nilai NaN dengan 0\n",
    "merged_data = merged_data.fillna(0)\n",
    "\n",
    "# Menyimpan hasil penggabungan ke file CSV\n",
    "merged_data.to_csv('data-inti-suspek.csv', index=False)\n",
    "# merged_data.head()"
   ]
  },
  {
   "attachments": {},
   "cell_type": "markdown",
   "metadata": {},
   "source": [
    "## merger data hasil lab dengan data-inti-suspek"
   ]
  },
  {
   "cell_type": "code",
   "execution_count": null,
   "metadata": {},
   "outputs": [],
   "source": [
    "data_inti_ver2 = pd.read_csv('data-inti-suspek.csv')\n",
    "data_inti_ver2.head()"
   ]
  },
  {
   "cell_type": "code",
   "execution_count": null,
   "metadata": {},
   "outputs": [],
   "source": [
    "data_lab = pd.read_csv('Hasil Lab.csv')\n",
    "data_lab.head()"
   ]
  },
  {
   "cell_type": "code",
   "execution_count": null,
   "metadata": {},
   "outputs": [],
   "source": [
    "#menghapus kolom terakhir yang tidak terpakai\n",
    "data_lab = data_lab.iloc[:, :-1]"
   ]
  },
  {
   "cell_type": "code",
   "execution_count": null,
   "metadata": {},
   "outputs": [],
   "source": [
    "data_lab.head()"
   ]
  },
  {
   "cell_type": "code",
   "execution_count": null,
   "metadata": {},
   "outputs": [],
   "source": [
    "data_lab.info()"
   ]
  },
  {
   "cell_type": "code",
   "execution_count": null,
   "metadata": {},
   "outputs": [],
   "source": [
    "data_inti_ver2.info()"
   ]
  },
  {
   "cell_type": "code",
   "execution_count": null,
   "metadata": {},
   "outputs": [],
   "source": [
    "data_inti_ver2['Tanggal'] = pd.to_datetime(data_inti_ver2['Tanggal'], format=\"%Y-%m-%d\")"
   ]
  },
  {
   "cell_type": "code",
   "execution_count": null,
   "metadata": {},
   "outputs": [],
   "source": [
    "# Konversi kolom 'Tanggal' ke format datetime dengan menangkap data yang gagal dikonversi\n",
    "failed_conversion = []\n",
    "for index, value in data_lab['Tanggal'].items():\n",
    "    try:\n",
    "        pd.to_datetime(value, format=\"%d/%m/%Y\")\n",
    "    except ValueError:\n",
    "        failed_conversion.append(index)\n",
    "\n",
    "# Tampilkan indeks sel data yang memiliki format berbeda\n",
    "for value in failed_conversion:\n",
    "    print(data_lab['Tanggal'][value])\n",
    "\n",
    "# diketahui perbedaan format : spasi di akhir string dan tambahan nol pada bulan"
   ]
  },
  {
   "cell_type": "code",
   "execution_count": null,
   "metadata": {},
   "outputs": [],
   "source": [
    "#cek data yang benar\n",
    "print(data_lab['Tanggal'][2])"
   ]
  },
  {
   "cell_type": "code",
   "execution_count": null,
   "metadata": {},
   "outputs": [],
   "source": [
    "# Hapus spasi di akhir string\n",
    "data_lab['Tanggal'] = data_lab['Tanggal'].str.rstrip()"
   ]
  },
  {
   "cell_type": "code",
   "execution_count": null,
   "metadata": {},
   "outputs": [],
   "source": [
    "data_lab['Tanggal'] = pd.to_datetime(data_lab['Tanggal'], format=\"%d/%m/%Y\", dayfirst=True)"
   ]
  },
  {
   "cell_type": "code",
   "execution_count": null,
   "metadata": {},
   "outputs": [],
   "source": [
    "# Menggabungkan data menggunakan metode left join\n",
    "merged_data = pd.merge(data_inti_ver2, data_lab, on='Tanggal', how='left')\n",
    "\n",
    "# Mengisi nilai NaN dengan 0\n",
    "merged_data = merged_data.fillna(0)\n",
    "\n",
    "# Menyimpan hasil penggabungan ke file CSV\n",
    "merged_data.to_csv('data-inti-v2-lab.csv', index=False)\n",
    "# merged_data.head()"
   ]
  },
  {
   "attachments": {},
   "cell_type": "markdown",
   "metadata": {},
   "source": [
    "## merge data pemakaman dengan data-inti-v2-lab"
   ]
  },
  {
   "cell_type": "code",
   "execution_count": null,
   "metadata": {},
   "outputs": [],
   "source": [
    "data_pemakaman = pd.read_csv('Pemakaman.csv')\n",
    "data_pemakaman.head()"
   ]
  },
  {
   "cell_type": "code",
   "execution_count": null,
   "metadata": {},
   "outputs": [],
   "source": [
    "data_pemakaman.info()"
   ]
  },
  {
   "cell_type": "code",
   "execution_count": null,
   "metadata": {},
   "outputs": [],
   "source": [
    "data_pemakaman['Tanggal'] = pd.to_datetime(data_pemakaman['Tanggal'], format=\"%d/%m/%Y\")"
   ]
  },
  {
   "cell_type": "code",
   "execution_count": null,
   "metadata": {},
   "outputs": [],
   "source": [
    "data_inti_ver3 = pd.read_csv('data-inti-v2-lab.csv')\n",
    "data_inti_ver3.head()"
   ]
  },
  {
   "cell_type": "code",
   "execution_count": null,
   "metadata": {},
   "outputs": [],
   "source": [
    "data_inti_ver3.info()"
   ]
  },
  {
   "cell_type": "code",
   "execution_count": null,
   "metadata": {},
   "outputs": [],
   "source": [
    "data_inti_ver3['Tanggal'] = pd.to_datetime(data_inti_ver3['Tanggal'], format=\"%Y-%m-%d\")"
   ]
  },
  {
   "cell_type": "code",
   "execution_count": null,
   "metadata": {},
   "outputs": [],
   "source": [
    "# Menggabungkan data menggunakan metode left join\n",
    "merged_data = pd.merge(data_inti_ver3, data_pemakaman, on='Tanggal', how='left')\n",
    "\n",
    "# Mengisi nilai NaN dengan 0\n",
    "merged_data = merged_data.fillna(0)\n",
    "\n",
    "# Menyimpan hasil penggabungan ke file CSV\n",
    "merged_data.to_csv('data-inti-v3-pemakaman.csv', index=False)\n",
    "# merged_data.head()"
   ]
  },
  {
   "attachments": {},
   "cell_type": "markdown",
   "metadata": {},
   "source": [
    "## merge data RDT-ab dengan data-inti-v3-pemakaman"
   ]
  },
  {
   "cell_type": "code",
   "execution_count": null,
   "metadata": {},
   "outputs": [],
   "source": [
    "data_rdt = pd.read_csv('RDT-ab.csv')\n",
    "data_rdt.head()"
   ]
  },
  {
   "cell_type": "code",
   "execution_count": null,
   "metadata": {},
   "outputs": [],
   "source": [
    "data_rdt.info()"
   ]
  },
  {
   "cell_type": "code",
   "execution_count": null,
   "metadata": {},
   "outputs": [],
   "source": [
    "# Konversi kolom 'Tanggal' ke format datetime dengan menangkap data yang gagal dikonversi\n",
    "failed_conversion = []\n",
    "for index, value in data_rdt['Tanggal'].items():\n",
    "    try:\n",
    "        pd.to_datetime(value, format=\"%d/%m/%Y\")\n",
    "    except ValueError:\n",
    "        failed_conversion.append(index)\n",
    "\n",
    "# Tampilkan indeks sel data yang memiliki format berbeda\n",
    "for value in failed_conversion:\n",
    "    print(data_rdt['Tanggal'][value])\n",
    "\n",
    "#diketahui kesalahan format hanya terletak pada imbuhan spasi di akhir string"
   ]
  },
  {
   "cell_type": "code",
   "execution_count": null,
   "metadata": {},
   "outputs": [],
   "source": [
    "# Hapus spasi di akhir string\n",
    "data_rdt['Tanggal'] = data_rdt['Tanggal'].str.rstrip()"
   ]
  },
  {
   "cell_type": "code",
   "execution_count": null,
   "metadata": {},
   "outputs": [],
   "source": [
    "data_rdt['Tanggal'] = pd.to_datetime(data_rdt['Tanggal'], format=\"%d/%m/%Y\", dayfirst=True)"
   ]
  },
  {
   "cell_type": "code",
   "execution_count": null,
   "metadata": {},
   "outputs": [],
   "source": [
    "# read data-inti-v3-pemakaman.csv\n",
    "data_inti_ver4 = pd.read_csv('data-inti-v3-pemakaman.csv')\n",
    "data_inti_ver4.head()"
   ]
  },
  {
   "cell_type": "code",
   "execution_count": null,
   "metadata": {},
   "outputs": [],
   "source": [
    "data_inti_ver4.info()"
   ]
  },
  {
   "cell_type": "code",
   "execution_count": null,
   "metadata": {},
   "outputs": [],
   "source": [
    "data_inti_ver4['Tanggal'] = pd.to_datetime(data_inti_ver4['Tanggal'], format=\"%Y-%m-%d\")"
   ]
  },
  {
   "cell_type": "code",
   "execution_count": null,
   "metadata": {},
   "outputs": [],
   "source": [
    "# Menggabungkan data menggunakan metode left join\n",
    "merged_data = pd.merge(data_inti_ver4, data_rdt, on='Tanggal', how='left')\n",
    "\n",
    "# Mengisi nilai NaN dengan 0\n",
    "merged_data = merged_data.fillna(0)\n",
    "\n",
    "# Menyimpan hasil penggabungan ke file CSV\n",
    "merged_data.to_csv('data-inti-v4-rdt.csv', index=False)\n",
    "# merged_data.head()"
   ]
  },
  {
   "attachments": {},
   "cell_type": "markdown",
   "metadata": {},
   "source": [
    "## last merger : data vaksinasi dengan data-inti-v4-rdt"
   ]
  },
  {
   "cell_type": "code",
   "execution_count": null,
   "metadata": {},
   "outputs": [],
   "source": [
    "data_vaksinasi = pd.read_csv('vaksinasi.csv')\n",
    "data_vaksinasi.head()"
   ]
  },
  {
   "cell_type": "code",
   "execution_count": null,
   "metadata": {},
   "outputs": [],
   "source": [
    "data_vaksinasi.info()"
   ]
  },
  {
   "cell_type": "code",
   "execution_count": null,
   "metadata": {},
   "outputs": [],
   "source": [
    "data_vaksinasi['Tanggal'] = pd.to_datetime(data_vaksinasi['Tanggal'], format=\"%d-%b-%y\")"
   ]
  },
  {
   "cell_type": "code",
   "execution_count": null,
   "metadata": {},
   "outputs": [],
   "source": [
    "# read data-inti-v4-rdt.csv\n",
    "data_inti_ver5 = pd.read_csv('data-inti-v4-rdt.csv')\n",
    "data_inti_ver5.head()"
   ]
  },
  {
   "cell_type": "code",
   "execution_count": null,
   "metadata": {},
   "outputs": [],
   "source": [
    "data_inti_ver5.info()"
   ]
  },
  {
   "cell_type": "code",
   "execution_count": null,
   "metadata": {},
   "outputs": [],
   "source": [
    "data_inti_ver5['Tanggal'] = pd.to_datetime(data_inti_ver5['Tanggal'], format=\"%Y-%m-%d\")"
   ]
  },
  {
   "cell_type": "code",
   "execution_count": null,
   "metadata": {},
   "outputs": [],
   "source": [
    "# Menggabungkan data menggunakan metode left join\n",
    "merged_data = pd.merge(data_inti_ver5, data_vaksinasi, on='Tanggal', how='left')\n",
    "\n",
    "# Mengisi nilai NaN dengan 0\n",
    "merged_data = merged_data.fillna(0)\n",
    "\n",
    "# Menyimpan hasil penggabungan ke file CSV\n",
    "merged_data.to_csv('data-inti-final.csv', index=False)\n",
    "# merged_data.head()"
   ]
  },
  {
   "attachments": {},
   "cell_type": "markdown",
   "metadata": {},
   "source": [
    "## data-inti-final.csv siap digunakan\n",
    "### bismillah"
   ]
  }
 ],
 "metadata": {
  "kernelspec": {
   "display_name": "Python 3",
   "language": "python",
   "name": "python3"
  },
  "language_info": {
   "codemirror_mode": {
    "name": "ipython",
    "version": 3
   },
   "file_extension": ".py",
   "mimetype": "text/x-python",
   "name": "python",
   "nbconvert_exporter": "python",
   "pygments_lexer": "ipython3",
   "version": "3.10.7"
  },
  "orig_nbformat": 4
 },
 "nbformat": 4,
 "nbformat_minor": 2
}
